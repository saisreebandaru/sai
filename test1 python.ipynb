{
 "cells": [
  {
   "cell_type": "code",
   "execution_count": null,
   "id": "9a638860-042a-4c71-ab1e-cd9baf724c9a",
   "metadata": {},
   "outputs": [],
   "source": [
    "python\n",
    "high level prommgraming launguage\n"
   ]
  },
  {
   "cell_type": "markdown",
   "id": "fb0e0d05-9d19-4383-8b72-8af0e0fc0664",
   "metadata": {},
   "source": [
    "list and  tuple ?\n",
    "collection of element and key difference mutable\n",
    "\n",
    "\n"
   ]
  },
  {
   "cell_type": "code",
   "execution_count": null,
   "id": "bf28e3c4-967c-4539-9db8-d6f3d105a62d",
   "metadata": {},
   "outputs": [],
   "source": [
    "astring python?\n",
    "replace ()python"
   ]
  },
  {
   "cell_type": "code",
   "execution_count": null,
   "id": "77f2540c-b015-4dab-8cd9-13ff3cdb321b",
   "metadata": {},
   "outputs": [],
   "source": [
    "index in python ?\n",
    "posytive and negative "
   ]
  },
  {
   "cell_type": "code",
   "execution_count": null,
   "id": "4ef208a7-ca2a-4ad1-a53d-3dccb02b75aa",
   "metadata": {},
   "outputs": [],
   "source": [
    "slicing? \n",
    "acceing group af element  in data "
   ]
  },
  {
   "cell_type": "code",
   "execution_count": null,
   "id": "6fbff858-1f80-4475-b96c-b1ebe19741d6",
   "metadata": {},
   "outputs": [],
   "source": [
    "keywords in python?\n",
    "special words if , else, for etc\n"
   ]
  },
  {
   "cell_type": "raw",
   "id": "61bbe4e0-a6ec-4b61-bdc3-973df876bf45",
   "metadata": {},
   "source": [
    "variable python?\n",
    "digit, special characters, keywords as the variable"
   ]
  },
  {
   "cell_type": "code",
   "execution_count": null,
   "id": "985fc7d6-103c-417e-88b0-d5dacd01c3ab",
   "metadata": {},
   "outputs": [],
   "source": [
    "operator these are? \n",
    "assigement\n",
    "logical\n",
    "comparsion \n",
    "memebership\n",
    "arthimetical\n",
    "bitwise"
   ]
  },
  {
   "cell_type": "code",
   "execution_count": null,
   "id": "4aad419b-31fe-405d-8aa0-f6c9c1e59020",
   "metadata": {},
   "outputs": [],
   "source": [
    "comment in python? \n",
    "# to write comment in python "
   ]
  },
  {
   "cell_type": "code",
   "execution_count": null,
   "id": "36133d2a-64c6-4f0e-b1e7-1a4fbe9d7670",
   "metadata": {},
   "outputs": [],
   "source": [
    "covert string a lower case?\n",
    "lower() methond"
   ]
  },
  {
   "cell_type": "raw",
   "id": "f85f3661-3781-4a74-a050-1ea20779845b",
   "metadata": {},
   "source": [
    "capatallizer the frist letter using?\n",
    "upper() metond"
   ]
  },
  {
   "cell_type": "markdown",
   "id": "59a12bfb-40a9-4c5d-8ac0-a21f985429e8",
   "metadata": {},
   "source": [
    "comment multiple line in python?\n",
    "# in start of the comment "
   ]
  },
  {
   "cell_type": "code",
   "execution_count": null,
   "id": "47866e93-76c7-4ee6-b8b4-ef4b70b51be2",
   "metadata": {},
   "outputs": [],
   "source": [
    "caclucate the length of string example?\n",
    "a='apple' len (a)->5"
   ]
  },
  {
   "cell_type": "markdown",
   "id": "c051caa3-4f68-44e8-89c8-b8fdcce98f7d",
   "metadata": {},
   "source": [
    "splilt used for ?\n",
    " convert string  to list format "
   ]
  },
  {
   "cell_type": "markdown",
   "id": "d76f95da-d966-4920-9e57-746631265eb9",
   "metadata": {},
   "source": [
    "how does python  dictionary  difference list?\n",
    " collection  key value pair and element both are difference"
   ]
  },
  {
   "cell_type": "code",
   "execution_count": null,
   "id": "2b980cff-9292-4e30-96c0-9ea7ff07a37e",
   "metadata": {},
   "outputs": [],
   "source": []
  }
 ],
 "metadata": {
  "kernelspec": {
   "display_name": "Python 3 (ipykernel)",
   "language": "python",
   "name": "python3"
  },
  "language_info": {
   "codemirror_mode": {
    "name": "ipython",
    "version": 3
   },
   "file_extension": ".py",
   "mimetype": "text/x-python",
   "name": "python",
   "nbconvert_exporter": "python",
   "pygments_lexer": "ipython3",
   "version": "3.12.7"
  }
 },
 "nbformat": 4,
 "nbformat_minor": 5
}
