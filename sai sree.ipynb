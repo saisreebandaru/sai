{
 "cells": [
  {
   "cell_type": "markdown",
   "id": "3f0151d2-b0b8-4ee6-8032-e40071ebe87d",
   "metadata": {},
   "source": [
    "#accessing elements from list\n",
    "#index"
   ]
  },
  {
   "cell_type": "code",
   "execution_count": 43,
   "id": "ac0766ae-3d74-4d63-9ba9-e457816d16f4",
   "metadata": {},
   "outputs": [
    {
     "data": {
      "text/plain": [
       "4"
      ]
     },
     "execution_count": 43,
     "metadata": {},
     "output_type": "execute_result"
    }
   ],
   "source": [
    "a=[1,2,3,4,5]\n",
    "a[3]"
   ]
  },
  {
   "cell_type": "code",
   "execution_count": 47,
   "id": "86e81ba6-2bad-45a0-baee-2be7e650dfdf",
   "metadata": {},
   "outputs": [
    {
     "data": {
      "text/plain": [
       "4.5"
      ]
     },
     "execution_count": 47,
     "metadata": {},
     "output_type": "execute_result"
    }
   ],
   "source": [
    "b=[1.2,2.3,3.4,4.5,5.6,6.7]\n",
    "b[3]"
   ]
  },
  {
   "cell_type": "code",
   "execution_count": 22,
   "id": "412e5f11-72ae-428a-80c8-60252bdb5e6f",
   "metadata": {},
   "outputs": [
    {
     "data": {
      "text/plain": [
       "'r'"
      ]
     },
     "execution_count": 22,
     "metadata": {},
     "output_type": "execute_result"
    }
   ],
   "source": [
    "c=['s','a','i','s','r','e','e']\n",
    "c[4]"
   ]
  },
  {
   "cell_type": "code",
   "execution_count": 24,
   "id": "fd299f73-6c1b-4583-ae64-06b96f457fc9",
   "metadata": {},
   "outputs": [
    {
     "data": {
      "text/plain": [
       "'box'"
      ]
     },
     "execution_count": 24,
     "metadata": {},
     "output_type": "execute_result"
    }
   ],
   "source": [
    "d=['bottle','pen','book','box','pencil']\n",
    "d[3]"
   ]
  },
  {
   "cell_type": "code",
   "execution_count": 26,
   "id": "3f4426df-0bc3-4b17-9cac-2946212e1d35",
   "metadata": {},
   "outputs": [
    {
     "data": {
      "text/plain": [
       "11"
      ]
     },
     "execution_count": 26,
     "metadata": {},
     "output_type": "execute_result"
    }
   ],
   "source": [
    "e=[77,33,11,66,44,55,88]\n",
    "e[2]"
   ]
  },
  {
   "cell_type": "code",
   "execution_count": 49,
   "id": "58912bee-1199-4a8b-a007-ffe324a2ff1b",
   "metadata": {},
   "outputs": [
    {
     "data": {
      "text/plain": [
       "4"
      ]
     },
     "execution_count": 49,
     "metadata": {},
     "output_type": "execute_result"
    }
   ],
   "source": [
    "a[-2]"
   ]
  },
  {
   "cell_type": "code",
   "execution_count": 37,
   "id": "b2d0673c-d390-4c49-9420-238b5121ae3c",
   "metadata": {},
   "outputs": [
    {
     "data": {
      "text/plain": [
       "2.3"
      ]
     },
     "execution_count": 37,
     "metadata": {},
     "output_type": "execute_result"
    }
   ],
   "source": [
    "b[-4]"
   ]
  },
  {
   "cell_type": "code",
   "execution_count": 39,
   "id": "6aef08eb-1eb8-45bb-881f-daf47811559d",
   "metadata": {},
   "outputs": [
    {
     "data": {
      "text/plain": [
       "'r'"
      ]
     },
     "execution_count": 39,
     "metadata": {},
     "output_type": "execute_result"
    }
   ],
   "source": [
    "c[-2]"
   ]
  },
  {
   "cell_type": "code",
   "execution_count": 45,
   "id": "24adb3f7-a9be-4204-b962-477f41093429",
   "metadata": {},
   "outputs": [
    {
     "data": {
      "text/plain": [
       "'box'"
      ]
     },
     "execution_count": 45,
     "metadata": {},
     "output_type": "execute_result"
    }
   ],
   "source": [
    "d[-2]"
   ]
  },
  {
   "cell_type": "code",
   "execution_count": 51,
   "id": "10a9504b-be13-4025-b44a-a92859d2f86e",
   "metadata": {},
   "outputs": [
    {
     "data": {
      "text/plain": [
       "4.5"
      ]
     },
     "execution_count": 51,
     "metadata": {},
     "output_type": "execute_result"
    }
   ],
   "source": [
    "e[-5]"
   ]
  },
  {
   "cell_type": "markdown",
   "id": "0b1ad38e-26d6-4c55-973a-e3a3bbbbf0e5",
   "metadata": {},
   "source": [
    "#slicing"
   ]
  },
  {
   "cell_type": "code",
   "execution_count": 54,
   "id": "1972fbff-472b-444b-9958-d09e93c09e53",
   "metadata": {},
   "outputs": [
    {
     "data": {
      "text/plain": [
       "[11, 222, 3333, 44444]"
      ]
     },
     "execution_count": 54,
     "metadata": {},
     "output_type": "execute_result"
    }
   ],
   "source": [
    "f=[11,222,3333,44444,555555]\n",
    "f[0:4]"
   ]
  },
  {
   "cell_type": "code",
   "execution_count": 56,
   "id": "63f35bfb-ebac-4c3f-adb5-570e6a060861",
   "metadata": {},
   "outputs": [
    {
     "data": {
      "text/plain": [
       "['r', 'n', 'l']"
      ]
     },
     "execution_count": 56,
     "metadata": {},
     "output_type": "execute_result"
    }
   ],
   "source": [
    "g=['s','m','r','n','l','c']\n",
    "g[2:5]"
   ]
  },
  {
   "cell_type": "code",
   "execution_count": 58,
   "id": "eb837b12-8c6f-469b-a146-6ec77b0d2ebc",
   "metadata": {},
   "outputs": [
    {
     "data": {
      "text/plain": [
       "[3, 4, 5, 6, 7]"
      ]
     },
     "execution_count": 58,
     "metadata": {},
     "output_type": "execute_result"
    }
   ],
   "source": [
    "h=[1,2,3,4,5,6,7]\n",
    "h[2:7]"
   ]
  },
  {
   "cell_type": "code",
   "execution_count": 60,
   "id": "baf1ebf9-300d-4a1f-be5d-13038db8f65b",
   "metadata": {},
   "outputs": [
    {
     "data": {
      "text/plain": [
       "[3333, 44444]"
      ]
     },
     "execution_count": 60,
     "metadata": {},
     "output_type": "execute_result"
    }
   ],
   "source": [
    "f[-3:-1]"
   ]
  },
  {
   "cell_type": "code",
   "execution_count": 62,
   "id": "9b3bee65-c8c2-4c8e-9fef-88e4d89cfc50",
   "metadata": {},
   "outputs": [
    {
     "data": {
      "text/plain": [
       "['m', 'r', 'n']"
      ]
     },
     "execution_count": 62,
     "metadata": {},
     "output_type": "execute_result"
    }
   ],
   "source": [
    "g[-5:-2]"
   ]
  },
  {
   "cell_type": "code",
   "execution_count": 66,
   "id": "24fdd700-c1ff-4be4-8b56-afa4f16374b3",
   "metadata": {},
   "outputs": [
    {
     "data": {
      "text/plain": [
       "[3, 4, 5, 6]"
      ]
     },
     "execution_count": 66,
     "metadata": {},
     "output_type": "execute_result"
    }
   ],
   "source": [
    "h[-5:-1]"
   ]
  },
  {
   "cell_type": "code",
   "execution_count": 76,
   "id": "83b9c823-9df6-4155-a74a-8fac5d0e5c27",
   "metadata": {},
   "outputs": [],
   "source": [
    "###list methods \n",
    "#### append"
   ]
  },
  {
   "cell_type": "code",
   "execution_count": null,
   "id": "4b477dda-afdf-4ad5-a6dc-a82f1cecdd0a",
   "metadata": {},
   "outputs": [],
   "source": [
    "a={1,3,7,8,6,0,2]a.append(7)print(a)"
   ]
  },
  {
   "cell_type": "code",
   "execution_count": 72,
   "id": "643795ff-79cd-45dc-8ca0-ec96f3fd710a",
   "metadata": {},
   "outputs": [
    {
     "name": "stdout",
     "output_type": "stream",
     "text": [
      "['s', 'a', 'i', 's', 'r', 'e', 'e']\n"
     ]
    }
   ],
   "source": [
    "b=[1.2,2.3,4.5,6.7,4.7,8.9,4.6]\n",
    "b.append(3.1) \n",
    "print(c)"
   ]
  },
  {
   "cell_type": "code",
   "execution_count": 74,
   "id": "e9772ec5-26ba-4fee-8a2c-ad4df5b8ffb2",
   "metadata": {},
   "outputs": [
    {
     "name": "stdout",
     "output_type": "stream",
     "text": [
      "['apple', 'banana', 'mango', 'orange', 'pineapple', 'lemon', 'lemon']\n"
     ]
    }
   ],
   "source": [
    "c=['apple','banana','mango','orange','pineapple','lemon']\n",
    "c.append('lemon')\n",
    "print(c)"
   ]
  },
  {
   "cell_type": "code",
   "execution_count": 80,
   "id": "7362870b-98ff-46d0-881a-4d6be3242cbd",
   "metadata": {},
   "outputs": [],
   "source": [
    "##### extend \n"
   ]
  },
  {
   "cell_type": "code",
   "execution_count": 82,
   "id": "cde5b52b-010c-43e4-9620-c379d71f82f8",
   "metadata": {},
   "outputs": [
    {
     "data": {
      "text/plain": [
       "[1, 2, 3, 4, 1, 2, 3, 4]"
      ]
     },
     "execution_count": 82,
     "metadata": {},
     "output_type": "execute_result"
    }
   ],
   "source": [
    "a=[1,2,3,4]\n",
    "a.extend (a)\n",
    "a"
   ]
  },
  {
   "cell_type": "code",
   "execution_count": 84,
   "id": "dd6523f1-5e93-4d02-b9cd-7aca37f4aa03",
   "metadata": {},
   "outputs": [
    {
     "data": {
      "text/plain": [
       "[2.1, 4.5, 5.3, 7.4, 2.1, 4.5, 5.3, 7.4]"
      ]
     },
     "execution_count": 84,
     "metadata": {},
     "output_type": "execute_result"
    }
   ],
   "source": [
    "b=[2.1,4.5,5.3,7.4]\n",
    "b.extend(b)\n",
    "b"
   ]
  },
  {
   "cell_type": "markdown",
   "id": "d08f2baf-637d-475b-a92c-b729e408b3e0",
   "metadata": {},
   "source": [
    "######pop"
   ]
  },
  {
   "cell_type": "code",
   "execution_count": 91,
   "id": "9ec1a2a4-ef77-4e07-a9bd-5908cde24d58",
   "metadata": {},
   "outputs": [
    {
     "data": {
      "text/plain": [
       "5"
      ]
     },
     "execution_count": 91,
     "metadata": {},
     "output_type": "execute_result"
    }
   ],
   "source": [
    "a=[1,2,3,4,5]\n",
    "a.pop()"
   ]
  },
  {
   "cell_type": "code",
   "execution_count": 93,
   "id": "4706d123-3a7a-4953-bd59-aec67b7aa94b",
   "metadata": {},
   "outputs": [
    {
     "data": {
      "text/plain": [
       "2.1"
      ]
     },
     "execution_count": 93,
     "metadata": {},
     "output_type": "execute_result"
    }
   ],
   "source": [
    "b.pop(-4)"
   ]
  },
  {
   "cell_type": "code",
   "execution_count": 101,
   "id": "7a0a5726-9d39-4d33-b1df-9563e491221f",
   "metadata": {},
   "outputs": [
    {
     "data": {
      "text/plain": [
       "<function list.pop(index=-1, /)>"
      ]
     },
     "execution_count": 101,
     "metadata": {},
     "output_type": "execute_result"
    }
   ],
   "source": [
    "c=['rp','ss','rr','ee']\n",
    "c.pop"
   ]
  },
  {
   "cell_type": "code",
   "execution_count": 103,
   "id": "30458719-8ba6-4a4c-ac3c-d70e7d8134cf",
   "metadata": {},
   "outputs": [],
   "source": [
    "####### count"
   ]
  },
  {
   "cell_type": "code",
   "execution_count": 105,
   "id": "c5d94fce-c25e-4b7a-ba48-a40dcb8a9ada",
   "metadata": {},
   "outputs": [
    {
     "data": {
      "text/plain": [
       "2"
      ]
     },
     "execution_count": 105,
     "metadata": {},
     "output_type": "execute_result"
    }
   ],
   "source": [
    "a=[1,2,3,4,5,6,7,8,1]\n",
    "a.count(1)"
   ]
  },
  {
   "cell_type": "code",
   "execution_count": 107,
   "id": "3b75222a-afe9-4d73-9473-112e26681806",
   "metadata": {},
   "outputs": [
    {
     "data": {
      "text/plain": [
       "2"
      ]
     },
     "execution_count": 107,
     "metadata": {},
     "output_type": "execute_result"
    }
   ],
   "source": [
    "b=['sai','jyo','kar','rah','sai']\n",
    "b.count('sai')"
   ]
  },
  {
   "cell_type": "code",
   "execution_count": 109,
   "id": "34fb4b6e-371d-46a0-8e80-51591449af75",
   "metadata": {},
   "outputs": [
    {
     "data": {
      "text/plain": [
       "1"
      ]
     },
     "execution_count": 109,
     "metadata": {},
     "output_type": "execute_result"
    }
   ],
   "source": [
    "c=['a','b','c',1,2,3]\n",
    "c.count(1)"
   ]
  },
  {
   "cell_type": "code",
   "execution_count": null,
   "id": "fa0b48ce-a0e7-4777-994d-55abbfda00c8",
   "metadata": {},
   "outputs": [],
   "source": [
    "######## what is  list \n",
    "A collection of ordered mutable changeable element fundatamental data structure in programming \n",
    "type of list \n",
    "method description  append () removed all element  from the list current index "
   ]
  }
 ],
 "metadata": {
  "kernelspec": {
   "display_name": "Python 3 (ipykernel)",
   "language": "python",
   "name": "python3"
  },
  "language_info": {
   "codemirror_mode": {
    "name": "ipython",
    "version": 3
   },
   "file_extension": ".py",
   "mimetype": "text/x-python",
   "name": "python",
   "nbconvert_exporter": "python",
   "pygments_lexer": "ipython3",
   "version": "3.12.7"
  }
 },
 "nbformat": 4,
 "nbformat_minor": 5
}
